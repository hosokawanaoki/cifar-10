{
 "cells": [
  {
   "cell_type": "markdown",
   "metadata": {},
   "source": [
    "https://qiita.com/God_KonaBanana/items/10fa8bb58cdd1dbd2e59"
   ]
  },
  {
   "cell_type": "code",
   "execution_count": 1,
   "metadata": {},
   "outputs": [
    {
     "name": "stderr",
     "output_type": "stream",
     "text": [
      "Using TensorFlow backend.\n"
     ]
    }
   ],
   "source": [
    "from keras.models import Sequential\n",
    "from keras.layers.convolutional import Conv2D\n",
    "from keras.layers.pooling import MaxPool2D\n",
    "from keras.layers.core import Dense,Activation,Dropout,Flatten\n",
    "from keras.datasets import cifar10\n",
    "from keras.utils import np_utils\n",
    "\n",
    "#cifar10をダウンロード\n",
    "(x_train,y_train),(x_test,y_test)=cifar10.load_data()\n",
    "\n",
    "#画像を0-1の範囲で正規化\n",
    "x_train=x_train.astype('float32')/255.0\n",
    "x_test=x_test.astype('float32')/255.0\n",
    "\n",
    "#正解ラベルをOne-Hot表現に変換\n",
    "y_train=np_utils.to_categorical(y_train,10)\n",
    "y_test=np_utils.to_categorical(y_test,10)"
   ]
  },
  {
   "cell_type": "code",
   "execution_count": 2,
   "metadata": {},
   "outputs": [
    {
     "name": "stderr",
     "output_type": "stream",
     "text": [
      "/Users/hosokawanaoki/anaconda3/lib/python3.6/site-packages/ipykernel_launcher.py:26: UserWarning: The `nb_epoch` argument in `fit` has been renamed `epochs`.\n"
     ]
    },
    {
     "name": "stdout",
     "output_type": "stream",
     "text": [
      "Train on 45000 samples, validate on 5000 samples\n",
      "Epoch 1/20\n",
      "45000/45000 [==============================] - 147s 3ms/step - loss: 1.6583 - acc: 0.3908 - val_loss: 1.2818 - val_acc: 0.5354\n",
      "Epoch 2/20\n",
      "45000/45000 [==============================] - 142s 3ms/step - loss: 1.2499 - acc: 0.5508 - val_loss: 1.0470 - val_acc: 0.6332\n",
      "Epoch 3/20\n",
      "45000/45000 [==============================] - 143s 3ms/step - loss: 1.0784 - acc: 0.6181 - val_loss: 0.9262 - val_acc: 0.6790\n",
      "Epoch 4/20\n",
      "45000/45000 [==============================] - 143s 3ms/step - loss: 0.9604 - acc: 0.6594 - val_loss: 0.8472 - val_acc: 0.7032\n",
      "Epoch 5/20\n",
      "45000/45000 [==============================] - 142s 3ms/step - loss: 0.8821 - acc: 0.6896 - val_loss: 0.7921 - val_acc: 0.7190\n",
      "Epoch 6/20\n",
      "45000/45000 [==============================] - 139s 3ms/step - loss: 0.8071 - acc: 0.7160 - val_loss: 0.7820 - val_acc: 0.7260\n",
      "Epoch 7/20\n",
      "45000/45000 [==============================] - 138s 3ms/step - loss: 0.7532 - acc: 0.7343 - val_loss: 0.6925 - val_acc: 0.7646\n",
      "Epoch 8/20\n",
      "45000/45000 [==============================] - 139s 3ms/step - loss: 0.7044 - acc: 0.7506 - val_loss: 0.6842 - val_acc: 0.7672\n",
      "Epoch 9/20\n",
      "45000/45000 [==============================] - 139s 3ms/step - loss: 0.6533 - acc: 0.7686 - val_loss: 0.6433 - val_acc: 0.7772\n",
      "Epoch 10/20\n",
      "45000/45000 [==============================] - 139s 3ms/step - loss: 0.6180 - acc: 0.7814 - val_loss: 0.6323 - val_acc: 0.7822\n",
      "Epoch 11/20\n",
      "45000/45000 [==============================] - 138s 3ms/step - loss: 0.5949 - acc: 0.7896 - val_loss: 0.6277 - val_acc: 0.7858\n",
      "Epoch 12/20\n",
      "45000/45000 [==============================] - 138s 3ms/step - loss: 0.5630 - acc: 0.8009 - val_loss: 0.6432 - val_acc: 0.7844\n",
      "Epoch 13/20\n",
      "45000/45000 [==============================] - 138s 3ms/step - loss: 0.5403 - acc: 0.8085 - val_loss: 0.6178 - val_acc: 0.7914\n",
      "Epoch 14/20\n",
      "45000/45000 [==============================] - 139s 3ms/step - loss: 0.5078 - acc: 0.8196 - val_loss: 0.6322 - val_acc: 0.7958\n",
      "Epoch 15/20\n",
      "45000/45000 [==============================] - 139s 3ms/step - loss: 0.4850 - acc: 0.8263 - val_loss: 0.6064 - val_acc: 0.7978\n",
      "Epoch 16/20\n",
      "45000/45000 [==============================] - 139s 3ms/step - loss: 0.4613 - acc: 0.8368 - val_loss: 0.6052 - val_acc: 0.8032\n",
      "Epoch 17/20\n",
      "45000/45000 [==============================] - 139s 3ms/step - loss: 0.4418 - acc: 0.8427 - val_loss: 0.6250 - val_acc: 0.7970\n",
      "Epoch 18/20\n",
      "45000/45000 [==============================] - 138s 3ms/step - loss: 0.4274 - acc: 0.8473 - val_loss: 0.5987 - val_acc: 0.8008\n",
      "Epoch 19/20\n",
      "45000/45000 [==============================] - 137s 3ms/step - loss: 0.4083 - acc: 0.8542 - val_loss: 0.6061 - val_acc: 0.8032\n",
      "Epoch 20/20\n",
      "45000/45000 [==============================] - 138s 3ms/step - loss: 0.3982 - acc: 0.8568 - val_loss: 0.6066 - val_acc: 0.8044\n",
      "_________________________________________________________________\n",
      "Layer (type)                 Output Shape              Param #   \n",
      "=================================================================\n",
      "conv2d_1 (Conv2D)            (None, 32, 32, 32)        896       \n",
      "_________________________________________________________________\n",
      "activation_1 (Activation)    (None, 32, 32, 32)        0         \n",
      "_________________________________________________________________\n",
      "conv2d_2 (Conv2D)            (None, 32, 32, 32)        9248      \n",
      "_________________________________________________________________\n",
      "activation_2 (Activation)    (None, 32, 32, 32)        0         \n",
      "_________________________________________________________________\n",
      "max_pooling2d_1 (MaxPooling2 (None, 16, 16, 32)        0         \n",
      "_________________________________________________________________\n",
      "dropout_1 (Dropout)          (None, 16, 16, 32)        0         \n",
      "_________________________________________________________________\n",
      "conv2d_3 (Conv2D)            (None, 16, 16, 64)        18496     \n",
      "_________________________________________________________________\n",
      "activation_3 (Activation)    (None, 16, 16, 64)        0         \n",
      "_________________________________________________________________\n",
      "conv2d_4 (Conv2D)            (None, 16, 16, 64)        36928     \n",
      "_________________________________________________________________\n",
      "activation_4 (Activation)    (None, 16, 16, 64)        0         \n",
      "_________________________________________________________________\n",
      "max_pooling2d_2 (MaxPooling2 (None, 8, 8, 64)          0         \n",
      "_________________________________________________________________\n",
      "dropout_2 (Dropout)          (None, 8, 8, 64)          0         \n",
      "_________________________________________________________________\n",
      "flatten_1 (Flatten)          (None, 4096)              0         \n",
      "_________________________________________________________________\n",
      "dense_1 (Dense)              (None, 512)               2097664   \n",
      "_________________________________________________________________\n",
      "activation_5 (Activation)    (None, 512)               0         \n",
      "_________________________________________________________________\n",
      "dropout_3 (Dropout)          (None, 512)               0         \n",
      "_________________________________________________________________\n",
      "dense_2 (Dense)              (None, 10)                5130      \n",
      "=================================================================\n",
      "Total params: 2,168,362\n",
      "Trainable params: 2,168,362\n",
      "Non-trainable params: 0\n",
      "_________________________________________________________________\n",
      "Test loss: 0.6462587334156037\n",
      "Test accuracy: 0.7884\n"
     ]
    }
   ],
   "source": [
    "#モデルを構築\n",
    "model=Sequential()\n",
    "\n",
    "model.add(Conv2D(32,(3,3),padding='same',input_shape=(32,32,3)))\n",
    "model.add(Activation('relu'))\n",
    "model.add(Conv2D(32,(3,3),padding='same'))\n",
    "model.add(Activation('relu'))\n",
    "model.add(MaxPool2D(pool_size=(2,2)))\n",
    "model.add(Dropout(0.25))\n",
    "\n",
    "model.add(Conv2D(64,(3,3),padding='same'))\n",
    "model.add(Activation('relu'))\n",
    "model.add(Conv2D(64,(3,3),padding='same'))\n",
    "model.add(Activation('relu'))\n",
    "model.add(MaxPool2D(pool_size=(2,2)))\n",
    "model.add(Dropout(0.25))\n",
    "\n",
    "model.add(Flatten())\n",
    "model.add(Dense(512))\n",
    "model.add(Activation('relu'))\n",
    "model.add(Dropout(0.5))\n",
    "model.add(Dense(10,activation='softmax'))\n",
    "\n",
    "model.compile(optimizer='adam',loss='categorical_crossentropy',metrics=['accuracy'])\n",
    "\n",
    "history=model.fit(x_train,y_train,batch_size=128,nb_epoch=20,verbose=1,validation_split=0.1)\n",
    "\n",
    "#モデルと重みを保存\n",
    "json_string=model.to_json()\n",
    "open('cifar10_cnn.json',\"w\").write(json_string)\n",
    "model.save_weights('cifar10_cnn.h5')\n",
    "\n",
    "#モデルの表示\n",
    "model.summary()\n",
    "\n",
    "#評価\n",
    "score=model.evaluate(x_test,y_test,verbose=0)\n",
    "print('Test loss:',score[0])\n",
    "print('Test accuracy:',score[1])"
   ]
  },
  {
   "cell_type": "code",
   "execution_count": 3,
   "metadata": {},
   "outputs": [
    {
     "name": "stdout",
     "output_type": "stream",
     "text": [
      "_________________________________________________________________\n",
      "Layer (type)                 Output Shape              Param #   \n",
      "=================================================================\n",
      "conv2d_1 (Conv2D)            (None, 32, 32, 32)        896       \n",
      "_________________________________________________________________\n",
      "activation_1 (Activation)    (None, 32, 32, 32)        0         \n",
      "_________________________________________________________________\n",
      "conv2d_2 (Conv2D)            (None, 32, 32, 32)        9248      \n",
      "_________________________________________________________________\n",
      "activation_2 (Activation)    (None, 32, 32, 32)        0         \n",
      "_________________________________________________________________\n",
      "max_pooling2d_1 (MaxPooling2 (None, 16, 16, 32)        0         \n",
      "_________________________________________________________________\n",
      "dropout_1 (Dropout)          (None, 16, 16, 32)        0         \n",
      "_________________________________________________________________\n",
      "conv2d_3 (Conv2D)            (None, 16, 16, 64)        18496     \n",
      "_________________________________________________________________\n",
      "activation_3 (Activation)    (None, 16, 16, 64)        0         \n",
      "_________________________________________________________________\n",
      "conv2d_4 (Conv2D)            (None, 16, 16, 64)        36928     \n",
      "_________________________________________________________________\n",
      "activation_4 (Activation)    (None, 16, 16, 64)        0         \n",
      "_________________________________________________________________\n",
      "max_pooling2d_2 (MaxPooling2 (None, 8, 8, 64)          0         \n",
      "_________________________________________________________________\n",
      "dropout_2 (Dropout)          (None, 8, 8, 64)          0         \n",
      "_________________________________________________________________\n",
      "flatten_1 (Flatten)          (None, 4096)              0         \n",
      "_________________________________________________________________\n",
      "dense_1 (Dense)              (None, 512)               2097664   \n",
      "_________________________________________________________________\n",
      "activation_5 (Activation)    (None, 512)               0         \n",
      "_________________________________________________________________\n",
      "dropout_3 (Dropout)          (None, 512)               0         \n",
      "_________________________________________________________________\n",
      "dense_2 (Dense)              (None, 10)                5130      \n",
      "=================================================================\n",
      "Total params: 2,168,362\n",
      "Trainable params: 2,168,362\n",
      "Non-trainable params: 0\n",
      "_________________________________________________________________\n",
      "Test loss: 0.6462587334156037\n",
      "Test accuracy: 0.7884\n"
     ]
    },
    {
     "name": "stderr",
     "output_type": "stream",
     "text": [
      "/Users/hosokawanaoki/anaconda3/lib/python3.6/site-packages/matplotlib/cbook/deprecation.py:107: MatplotlibDeprecationWarning: Passing one of 'on', 'true', 'off', 'false' as a boolean is deprecated; use an actual boolean (True/False) instead.\n",
      "  warnings.warn(message, mplDeprecation, stacklevel=1)\n"
     ]
    },
    {
     "data": {
      "text/plain": [
       "<Figure size 1000x1000 with 25 Axes>"
      ]
     },
     "metadata": {},
     "output_type": "display_data"
    }
   ],
   "source": [
    "from keras.models import model_from_json\n",
    "from keras.preprocessing.image import img_to_array, load_img\n",
    "import matplotlib.pyplot as plt\n",
    "import numpy as np\n",
    "\n",
    "#cifar10をダウンロード\n",
    "(_,_),(x_test_img,y_test_img)=cifar10.load_data()\n",
    "\n",
    "#画像を0-1の範囲で正規化\n",
    "x_test=x_test_img.astype('float32')/255.0\n",
    "\n",
    "#正解ラベルをOne-Hot表現に変換\n",
    "y_test=np_utils.to_categorical(y_test_img,10)\n",
    "\n",
    "#学習済みのモデルと重みを読み込む\n",
    "json_string=open('cifar10_cnn.json').read()\n",
    "model=model_from_json(json_string)\n",
    "model.compile(optimizer='adam',loss='categorical_crossentropy',metrics=['accuracy'])\n",
    "model.load_weights('cifar10_cnn.h5')\n",
    "\n",
    "#モデルを表示\n",
    "model.summary()\n",
    "\n",
    "#評価\n",
    "score=model.evaluate(x_test,y_test,verbose=0)\n",
    "print('Test loss:',score[0])\n",
    "print('Test accuracy:',score[1])\n",
    "\n",
    "#predict_classesで画像のクラスを予想する\n",
    "img_pred=model.predict_classes(x_test)\n",
    "\n",
    "#5x5枚の画像を表示する\n",
    "plt.figure(figsize=(10,10))\n",
    "for i in range(25):\n",
    "    rand_num=np.random.randint(0,10000)\n",
    "    cifar_img=plt.subplot(5,5,i+1)\n",
    "    plt.imshow(x_test_img[rand_num])\n",
    "    #x軸の目盛りを消す\n",
    "    plt.tick_params(labelbottom='off')\n",
    "    #y軸の目盛りを消す\n",
    "    plt.tick_params(labelleft='off')\n",
    "    #画像の予想\n",
    "    plt.title('pred:{0},ans:{1}'.format(img_pred[rand_num],y_test_img[rand_num]))\n",
    "\n",
    "\n",
    "plt.show()"
   ]
  },
  {
   "cell_type": "code",
   "execution_count": 1,
   "metadata": {},
   "outputs": [
    {
     "ename": "NameError",
     "evalue": "name 'load_img' is not defined",
     "output_type": "error",
     "traceback": [
      "\u001b[0;31m---------------------------------------------------------------------------\u001b[0m",
      "\u001b[0;31mNameError\u001b[0m                                 Traceback (most recent call last)",
      "\u001b[0;32m<ipython-input-1-d1a7da65296c>\u001b[0m in \u001b[0;36m<module>\u001b[0;34m()\u001b[0m\n\u001b[0;32m----> 1\u001b[0;31m \u001b[0mtemp_img\u001b[0m\u001b[0;34m=\u001b[0m\u001b[0mload_img\u001b[0m\u001b[0;34m(\u001b[0m\u001b[0;34m\"kumamon.jpg\"\u001b[0m\u001b[0;34m,\u001b[0m\u001b[0mtarget_size\u001b[0m\u001b[0;34m=\u001b[0m\u001b[0;34m(\u001b[0m\u001b[0;36m32\u001b[0m\u001b[0;34m,\u001b[0m\u001b[0;36m32\u001b[0m\u001b[0;34m)\u001b[0m\u001b[0;34m)\u001b[0m\u001b[0;34m\u001b[0m\u001b[0m\n\u001b[0m",
      "\u001b[0;31mNameError\u001b[0m: name 'load_img' is not defined"
     ]
    }
   ],
   "source": [
    "temp_img=load_img(\"kumamon.jpg\",target_size=(32,32))\n"
   ]
  },
  {
   "cell_type": "code",
   "execution_count": 2,
   "metadata": {},
   "outputs": [
    {
     "ename": "NameError",
     "evalue": "name 'img_to_array' is not defined",
     "output_type": "error",
     "traceback": [
      "\u001b[0;31m---------------------------------------------------------------------------\u001b[0m",
      "\u001b[0;31mNameError\u001b[0m                                 Traceback (most recent call last)",
      "\u001b[0;32m<ipython-input-2-36c6bd443225>\u001b[0m in \u001b[0;36m<module>\u001b[0;34m()\u001b[0m\n\u001b[1;32m      1\u001b[0m \u001b[0;31m#画像を配列に変換し0-1で正規化\u001b[0m\u001b[0;34m\u001b[0m\u001b[0;34m\u001b[0m\u001b[0m\n\u001b[0;32m----> 2\u001b[0;31m \u001b[0mtemp_img_array\u001b[0m\u001b[0;34m=\u001b[0m\u001b[0mimg_to_array\u001b[0m\u001b[0;34m(\u001b[0m\u001b[0mtemp_img\u001b[0m\u001b[0;34m)\u001b[0m\u001b[0;34m\u001b[0m\u001b[0m\n\u001b[0m\u001b[1;32m      3\u001b[0m \u001b[0mtemp_img_array\u001b[0m\u001b[0;34m=\u001b[0m\u001b[0mtemp_img_array\u001b[0m\u001b[0;34m.\u001b[0m\u001b[0mastype\u001b[0m\u001b[0;34m(\u001b[0m\u001b[0;34m'float32'\u001b[0m\u001b[0;34m)\u001b[0m\u001b[0;34m/\u001b[0m\u001b[0;36m255.0\u001b[0m\u001b[0;34m\u001b[0m\u001b[0m\n\u001b[1;32m      4\u001b[0m \u001b[0mtemp_img_array\u001b[0m\u001b[0;34m=\u001b[0m\u001b[0mtemp_img_array\u001b[0m\u001b[0;34m.\u001b[0m\u001b[0mreshape\u001b[0m\u001b[0;34m(\u001b[0m\u001b[0;34m(\u001b[0m\u001b[0;36m1\u001b[0m\u001b[0;34m,\u001b[0m\u001b[0;36m32\u001b[0m\u001b[0;34m,\u001b[0m\u001b[0;36m32\u001b[0m\u001b[0;34m,\u001b[0m\u001b[0;36m3\u001b[0m\u001b[0;34m)\u001b[0m\u001b[0;34m)\u001b[0m\u001b[0;34m\u001b[0m\u001b[0m\n\u001b[1;32m      5\u001b[0m \u001b[0;34m\u001b[0m\u001b[0m\n",
      "\u001b[0;31mNameError\u001b[0m: name 'img_to_array' is not defined"
     ]
    }
   ],
   "source": [
    "#画像を配列に変換し0-1で正規化\n",
    "temp_img_array=img_to_array(temp_img)\n",
    "temp_img_array=temp_img_array.astype('float32')/255.0\n",
    "temp_img_array=temp_img_array.reshape((1,32,32,3))\n",
    "\n",
    "#学習済みのモデルと重みを読み込む\n",
    "json_string=open('cifar10_cnn.json').read()\n",
    "model=model_from_json(json_string)\n",
    "model.compile(optimizer='adam',loss='categorical_crossentropy',metrics=['accuracy'])\n",
    "model.load_weights('cifar10_cnn.h5')\n",
    "\n",
    "#モデルを表示\n",
    "model.summary()\n",
    "\n",
    "#画像を予想\n",
    "img_pred=model.predict_classes(temp_img_array)\n",
    "print('\\npredict_classes=',img_pred)\n",
    "\n",
    "plt.imshow(temp_img)\n",
    "plt.title('pred:{}'.format(img_pred))\n",
    "plt.show()"
   ]
  },
  {
   "cell_type": "code",
   "execution_count": 3,
   "metadata": {},
   "outputs": [
    {
     "ename": "NameError",
     "evalue": "name 'load_img' is not defined",
     "output_type": "error",
     "traceback": [
      "\u001b[0;31m---------------------------------------------------------------------------\u001b[0m",
      "\u001b[0;31mNameError\u001b[0m                                 Traceback (most recent call last)",
      "\u001b[0;32m<ipython-input-3-55042c4a36a0>\u001b[0m in \u001b[0;36m<module>\u001b[0;34m()\u001b[0m\n\u001b[0;32m----> 1\u001b[0;31m \u001b[0mtemp_img\u001b[0m\u001b[0;34m=\u001b[0m\u001b[0mload_img\u001b[0m\u001b[0;34m(\u001b[0m\u001b[0;34m\"model3.png\"\u001b[0m\u001b[0;34m,\u001b[0m\u001b[0mtarget_size\u001b[0m\u001b[0;34m=\u001b[0m\u001b[0;34m(\u001b[0m\u001b[0;36m32\u001b[0m\u001b[0;34m,\u001b[0m\u001b[0;36m32\u001b[0m\u001b[0;34m)\u001b[0m\u001b[0;34m)\u001b[0m\u001b[0;34m\u001b[0m\u001b[0m\n\u001b[0m",
      "\u001b[0;31mNameError\u001b[0m: name 'load_img' is not defined"
     ]
    }
   ],
   "source": [
    "temp_img=load_img(\"model3.png\",target_size=(32,32))"
   ]
  },
  {
   "cell_type": "code",
   "execution_count": 11,
   "metadata": {},
   "outputs": [
    {
     "name": "stdout",
     "output_type": "stream",
     "text": [
      "_________________________________________________________________\n",
      "Layer (type)                 Output Shape              Param #   \n",
      "=================================================================\n",
      "conv2d_1 (Conv2D)            (None, 32, 32, 32)        896       \n",
      "_________________________________________________________________\n",
      "activation_1 (Activation)    (None, 32, 32, 32)        0         \n",
      "_________________________________________________________________\n",
      "conv2d_2 (Conv2D)            (None, 32, 32, 32)        9248      \n",
      "_________________________________________________________________\n",
      "activation_2 (Activation)    (None, 32, 32, 32)        0         \n",
      "_________________________________________________________________\n",
      "max_pooling2d_1 (MaxPooling2 (None, 16, 16, 32)        0         \n",
      "_________________________________________________________________\n",
      "dropout_1 (Dropout)          (None, 16, 16, 32)        0         \n",
      "_________________________________________________________________\n",
      "conv2d_3 (Conv2D)            (None, 16, 16, 64)        18496     \n",
      "_________________________________________________________________\n",
      "activation_3 (Activation)    (None, 16, 16, 64)        0         \n",
      "_________________________________________________________________\n",
      "conv2d_4 (Conv2D)            (None, 16, 16, 64)        36928     \n",
      "_________________________________________________________________\n",
      "activation_4 (Activation)    (None, 16, 16, 64)        0         \n",
      "_________________________________________________________________\n",
      "max_pooling2d_2 (MaxPooling2 (None, 8, 8, 64)          0         \n",
      "_________________________________________________________________\n",
      "dropout_2 (Dropout)          (None, 8, 8, 64)          0         \n",
      "_________________________________________________________________\n",
      "flatten_1 (Flatten)          (None, 4096)              0         \n",
      "_________________________________________________________________\n",
      "dense_1 (Dense)              (None, 512)               2097664   \n",
      "_________________________________________________________________\n",
      "activation_5 (Activation)    (None, 512)               0         \n",
      "_________________________________________________________________\n",
      "dropout_3 (Dropout)          (None, 512)               0         \n",
      "_________________________________________________________________\n",
      "dense_2 (Dense)              (None, 10)                5130      \n",
      "=================================================================\n",
      "Total params: 2,168,362\n",
      "Trainable params: 2,168,362\n",
      "Non-trainable params: 0\n",
      "_________________________________________________________________\n",
      "\n",
      "predict_classes= [1]\n"
     ]
    },
    {
     "data": {
      "image/png": "[encoded data removed]",
      "text/plain": [
       "<Figure size 432x288 with 1 Axes>"
      ]
     },
     "metadata": {},
     "output_type": "display_data"
    }
   ],
   "source": [
    "#画像を配列に変換し0-1で正規化\n",
    "temp_img_array=img_to_array(temp_img)\n",
    "temp_img_array=temp_img_array.astype('float32')/255.0\n",
    "temp_img_array=temp_img_array.reshape((1,32,32,3))\n",
    "\n",
    "#学習済みのモデルと重みを読み込む\n",
    "json_string=open('cifar10_cnn.json').read()\n",
    "model=model_from_json(json_string)\n",
    "model.compile(optimizer='adam',loss='categorical_crossentropy',metrics=['accuracy'])\n",
    "model.load_weights('cifar10_cnn.h5')\n",
    "\n",
    "#モデルを表示\n",
    "model.summary()\n",
    "\n",
    "#画像を予想\n",
    "img_pred=model.predict_classes(temp_img_array)\n",
    "print('\\npredict_classes=',img_pred)\n",
    "\n",
    "plt.imshow(temp_img)\n",
    "plt.title('pred:{}'.format(img_pred))\n",
    "plt.show()"
   ]
  },
  {
   "cell_type": "code",
   "execution_count": null,
   "metadata": {},
   "outputs": [],
   "source": []
  }
 ],
 "metadata": {
  "kernelspec": {
   "display_name": "Python 3",
   "language": "python",
   "name": "python3"
  },
  "language_info": {
   "codemirror_mode": {
    "name": "ipython",
    "version": 3
   },
   "file_extension": ".py",
   "mimetype": "text/x-python",
   "name": "python",
   "nbconvert_exporter": "python",
   "pygments_lexer": "ipython3",
   "version": "3.6.6"
  }
 },
 "nbformat": 4,
 "nbformat_minor": 2
}
